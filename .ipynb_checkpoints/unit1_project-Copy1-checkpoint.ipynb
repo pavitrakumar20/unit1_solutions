{
 "cells": [
  {
   "cell_type": "markdown",
   "metadata": {},
   "source": [
    "<img src=\"http://imgur.com/1ZcRyrc.png\" style=\"float: left; margin: 20px; height: 55px\">\n",
    "\n",
    "# Project 1: Python Coding Exercises\n",
    "\n",
    "_Authors: Joseph Nelson (DC) _\n",
    "\n",
    "---"
   ]
  },
  {
   "cell_type": "markdown",
   "metadata": {},
   "source": [
    "The following code challenges are drawn from common exercises used in technical interviews.\n",
    "\n",
    "Please note that there may be several ways to approach each challenge. If you get stuck, try mapping out your approach in pseudocode first. Finally, while solutions to problems like these may be found online, remember that if you copy/paste code that you can't explain, you'll be missing out on the point of the project. The only way to truly learn a new skill is through practice, trial, and error - we can only help you improve by understanding where you are having trouble."
   ]
  },
  {
   "cell_type": "code",
   "execution_count": null,
   "metadata": {},
   "outputs": [],
   "source": []
  },
  {
   "cell_type": "markdown",
   "metadata": {},
   "source": [
    "### Challenge 1: Largest Palindrome\n",
    "A palindromic number reads the same both ways. For example, 1234321 is a palindrome. The largest palindrome made from the product of two two-digit numbers is 9009 = 91 × 99. Find the largest palindrome made from the product of two three-digit numbers. Afterward, write a brief explanation walking through your code's logic in markdown."
   ]
  },
  {
   "cell_type": "code",
   "execution_count": 18,
   "metadata": {},
   "outputs": [
    {
     "name": "stdout",
     "output_type": "stream",
     "text": [
      "906609\n"
     ]
    }
   ],
   "source": [
    "palindrome_set = []\n",
    "for x in range(100,1000):\n",
    "    for y in range(100,1000):\n",
    "        z = x*y\n",
    "        str_z = str(z)\n",
    "        str_z_reverse = str_z[::-1]        \n",
    "        if str_z == str_z_reverse:\n",
    "            palindrome_set.append(z)\n",
    "\n",
    "print(max(palindrome_set))"
   ]
  },
  {
   "cell_type": "markdown",
   "metadata": {},
   "source": [
    "Looped through product of all 3-digit numbers, found palindromes by setting product to a string and testing if equal to its reverse, created list of all palindromes from products of 3 digit numbers and then took max of these palindromes in final step."
   ]
  },
  {
   "cell_type": "markdown",
   "metadata": {},
   "source": []
  },
  {
   "cell_type": "code",
   "execution_count": null,
   "metadata": {},
   "outputs": [],
   "source": []
  },
  {
   "cell_type": "markdown",
   "metadata": {},
   "source": [
    "\n",
    "### Challenge 2: Summation of Primes\n",
    "The sum of the primes below 10 is 2 + 3 + 5 + 7 = 17. Find the sum of all the primes below 2,000. Afterward, write a brief explanation walking through your code's logic in markdown."
   ]
  },
  {
   "cell_type": "code",
   "execution_count": 12,
   "metadata": {},
   "outputs": [
    {
     "name": "stdout",
     "output_type": "stream",
     "text": [
      "277050\n"
     ]
    }
   ],
   "source": [
    "def is_prime(num): #num should be >= 2\n",
    "    count_divisors=[]\n",
    "    for i in range(2,num):\n",
    "        if num%i == 0:\n",
    "            count_divisors.append(i)\n",
    "    if len(count_divisors)==0:\n",
    "        return 'prime'\n",
    "    else:\n",
    "        return 'not prime'\n",
    "\n",
    "sum_prime = 0\n",
    "for i in range(2,2000):\n",
    "    if is_prime(i)=='prime':\n",
    "        sum_prime +=i\n",
    "print(sum_prime)"
   ]
  },
  {
   "cell_type": "markdown",
   "metadata": {},
   "source": []
  },
  {
   "cell_type": "markdown",
   "metadata": {},
   "source": [
    "created function to detect prime numbers greater than or equal to 2 (by eliminating numbers that have divisors other than themselves), then summed across all prime numbers below 2000 using this function in a loop (set prime number counter to zero initially, then added all prime numbers to that counter iteratively until reaching 2000)."
   ]
  },
  {
   "cell_type": "markdown",
   "metadata": {},
   "source": [
    "### Challenge 3: Multiples of 3 and 5\n",
    "If we list all of the natural numbers below 10 that are multiples of 3 or 5, we get 3, 5, 6, and 9. The sum of these multiples is 23. Find the sum of all the multiples of 3 or 5 below 1,000. Afterward, write a brief explanation walking through your code's logic in markdown."
   ]
  },
  {
   "cell_type": "code",
   "execution_count": 14,
   "metadata": {},
   "outputs": [
    {
     "name": "stdout",
     "output_type": "stream",
     "text": [
      "233168\n"
     ]
    }
   ],
   "source": [
    "count_multiples = 0\n",
    "for i in range(3,1000):\n",
    "    if (i%3==0) | (i%5==0):\n",
    "        count_multiples +=i\n",
    "print(count_multiples)"
   ]
  },
  {
   "cell_type": "markdown",
   "metadata": {},
   "source": []
  },
  {
   "cell_type": "markdown",
   "metadata": {},
   "source": [
    "Initialized a counter of the multiples (of 3 or 5) at zero, then looped through all numbers below one thousand, adding multiples of three or five to the counter. Final result is sum of all multiples of three or five below one thousand.\n"
   ]
  },
  {
   "cell_type": "markdown",
   "metadata": {},
   "source": [
    "### Challenge 4: String Compressor\n",
    "Implement a method to perform basic string compression using the counts of repeated characters. (This is called run-length encoding.) For example, the string \"aabcccccaaa\" would become a2b1c5a3. If the “compressed” string would not become smaller than the original string, your method should return the original string. You can assume the string has only uppercase and lowercase letters (a–z). Specify whether your solution is case sensitive or case insensitive and what you would need to change to make it the other. Afterward, write a brief explanation walking through your code's logic in markdown."
   ]
  },
  {
   "cell_type": "code",
   "execution_count": 42,
   "metadata": {},
   "outputs": [
    {
     "data": {
      "text/plain": [
       "'a2b1c5a1b1a4'"
      ]
     },
     "execution_count": 42,
     "metadata": {},
     "output_type": "execute_result"
    }
   ],
   "source": [
    "def compress_string(string):\n",
    "    list_of_characters = []\n",
    "    for char in string:\n",
    "        list_of_characters.append(char.lower())\n",
    "      \n",
    "    counter = 1\n",
    "    new_character = list_of_characters[0]\n",
    "    compressed_string = ''\n",
    "          \n",
    "    for j in range(1,len(list_of_characters)):\n",
    "      \n",
    "        if list_of_characters[j]==new_character:\n",
    "            counter +=1\n",
    "            if j == len(list_of_characters)-1:\n",
    "                compressed_string = compressed_string + new_character + str(counter)\n",
    "\n",
    "        else:\n",
    "            compressed_string = compressed_string + new_character + str(counter)\n",
    "            counter = 1\n",
    "            new_character = list_of_characters[j]\n",
    "            if j == len(list_of_characters)-1:\n",
    "                compressed_string = compressed_string + new_character + str(counter)\n",
    "                   \n",
    "    if len(compressed_string)>= len(string):\n",
    "        return string\n",
    "    else:\n",
    "        return compressed_string\n",
    "\n",
    "compress_string('AaBccccCabaaaa')\n"
   ]
  },
  {
   "cell_type": "markdown",
   "metadata": {},
   "source": []
  },
  {
   "cell_type": "markdown",
   "metadata": {},
   "source": [
    "First create list of characters in string. Then start with the first new character in string ('new_character') and test if next character is equal to that. If so, I add to the counter of duplicates for that character ('counter'), which is initialized at 1. If not, I create a string concatenating the first new character and the number of duplicates of that character ('compressed_string'). \n",
    "I then re-initialize the counter of duplicates to 1 and re-initialize the new character to the current character (which is different from the previous repeated character). Then I check if the character after that is equal to the new character or not, and follow same process as above, concatenating the compressed_string with each new character and its number of duplicates.  \n",
    "Put in a special additional clause ensuring the last character in the string is included (given there are no characters after that). \n",
    "If compressed string is greater than or equal to original string in length, print original string, otherwise print compressed_string.\n",
    "Current solution is case insensitive - if you remove the lower() command when creating the original list of characters, becomes case sensitive. "
   ]
  },
  {
   "cell_type": "markdown",
   "metadata": {},
   "source": [
    "### Challenge 5: FizzBuzz\n",
    "\n",
    "Write a program that prints all of the numbers from 1 to 100. For multiples of 3, instead of the number, print \"Fizz;\" for multiples of 5, print \"Buzz.\" For numbers that are multiples of both 3 and 5, print \"FizzBuzz.\" Afterward, write a brief explanation walking through your code's logic in markdown."
   ]
  },
  {
   "cell_type": "code",
   "execution_count": 130,
   "metadata": {},
   "outputs": [
    {
     "name": "stdout",
     "output_type": "stream",
     "text": [
      "1\n",
      "2\n",
      "Fizz\n",
      "4\n",
      "Buzz\n",
      "Fizz\n",
      "7\n",
      "8\n",
      "Fizz\n",
      "Buzz\n",
      "11\n",
      "Fizz\n",
      "13\n",
      "14\n",
      "FizzBuzz\n",
      "16\n",
      "17\n",
      "Fizz\n",
      "19\n",
      "Buzz\n",
      "Fizz\n",
      "22\n",
      "23\n",
      "Fizz\n",
      "Buzz\n",
      "26\n",
      "Fizz\n",
      "28\n",
      "29\n",
      "FizzBuzz\n",
      "31\n",
      "32\n",
      "Fizz\n",
      "34\n",
      "Buzz\n",
      "Fizz\n",
      "37\n",
      "38\n",
      "Fizz\n",
      "Buzz\n",
      "41\n",
      "Fizz\n",
      "43\n",
      "44\n",
      "FizzBuzz\n",
      "46\n",
      "47\n",
      "Fizz\n",
      "49\n",
      "Buzz\n",
      "Fizz\n",
      "52\n",
      "53\n",
      "Fizz\n",
      "Buzz\n",
      "56\n",
      "Fizz\n",
      "58\n",
      "59\n",
      "FizzBuzz\n",
      "61\n",
      "62\n",
      "Fizz\n",
      "64\n",
      "Buzz\n",
      "Fizz\n",
      "67\n",
      "68\n",
      "Fizz\n",
      "Buzz\n",
      "71\n",
      "Fizz\n",
      "73\n",
      "74\n",
      "FizzBuzz\n",
      "76\n",
      "77\n",
      "Fizz\n",
      "79\n",
      "Buzz\n",
      "Fizz\n",
      "82\n",
      "83\n",
      "Fizz\n",
      "Buzz\n",
      "86\n",
      "Fizz\n",
      "88\n",
      "89\n",
      "FizzBuzz\n",
      "91\n",
      "92\n",
      "Fizz\n",
      "94\n",
      "Buzz\n",
      "Fizz\n",
      "97\n",
      "98\n",
      "Fizz\n",
      "Buzz\n"
     ]
    }
   ],
   "source": [
    "for i in range(1,101):\n",
    "    if (i % 3 == 0) & (i % 5 == 0):\n",
    "        print(\"FizzBuzz\")\n",
    "    elif i % 5 == 0:\n",
    "        print(\"Buzz\")\n",
    "    elif i % 3 == 0:\n",
    "        print(\"Fizz\")\n",
    "    else:\n",
    "        print(i)\n",
    "            "
   ]
  },
  {
   "cell_type": "markdown",
   "metadata": {},
   "source": [
    "first identified muliples of 3 and 5 and asked to print fizzbuzz, then identified multiples of 5 (but not multiples of both 3 and 5) and asked to print buzz, then identified multiples of just 3 (but not multiples of both 3 and 5) and asked to print fizz. Otherwise just print the number."
   ]
  },
  {
   "cell_type": "markdown",
   "metadata": {},
   "source": []
  }
 ],
 "metadata": {
  "anaconda-cloud": {},
  "kernelspec": {
   "display_name": "Python 3",
   "language": "python",
   "name": "python3"
  },
  "language_info": {
   "codemirror_mode": {
    "name": "ipython",
    "version": 3
   },
   "file_extension": ".py",
   "mimetype": "text/x-python",
   "name": "python",
   "nbconvert_exporter": "python",
   "pygments_lexer": "ipython3",
   "version": "3.6.5"
  }
 },
 "nbformat": 4,
 "nbformat_minor": 2
}
